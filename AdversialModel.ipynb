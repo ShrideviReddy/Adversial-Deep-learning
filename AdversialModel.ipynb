{
  "nbformat": 4,
  "nbformat_minor": 0,
  "metadata": {
    "colab": {
      "name": "AdversialModel.ipynb",
      "provenance": [],
      "collapsed_sections": []
    },
    "kernelspec": {
      "name": "python3",
      "display_name": "Python 3"
    }
  },
  "cells": [
    {
      "cell_type": "code",
      "metadata": {
        "id": "2UT67t5kM9lK",
        "colab_type": "code",
        "colab": {}
      },
      "source": [
        "import tensorflow as tf\n",
        "\n",
        "from tensorflow.keras.datasets import mnist, cifar10, cifar100\n",
        "\n",
        "from tensorflow.keras import Sequential\n",
        "from tensorflow.keras.callbacks import LambdaCallback\n",
        "from tensorflow.keras.layers import Conv2D, MaxPooling2D, Dropout, Dense, Flatten, Activation\n",
        "\n",
        "import numpy as np\n",
        "import random\n",
        "\n",
        "import matplotlib.pyplot as plt"
      ],
      "execution_count": 0,
      "outputs": []
    },
    {
      "cell_type": "code",
      "metadata": {
        "id": "Amed4lDcl_Fj",
        "colab_type": "code",
        "colab": {
          "base_uri": "https://localhost:8080/",
          "height": 51
        },
        "outputId": "1c5b2312-bb20-4708-f264-91ee7fab1bd7"
      },
      "source": [
        "(x_train, y_train), (x_test, y_test) = tf.keras.datasets.mnist.load_data()"
      ],
      "execution_count": 2,
      "outputs": [
        {
          "output_type": "stream",
          "text": [
            "Downloading data from https://storage.googleapis.com/tensorflow/tf-keras-datasets/mnist.npz\n",
            "11493376/11490434 [==============================] - 0s 0us/step\n"
          ],
          "name": "stdout"
        }
      ]
    },
    {
      "cell_type": "code",
      "metadata": {
        "id": "Ayu5dqPvmCku",
        "colab_type": "code",
        "colab": {}
      },
      "source": [
        "labels = ['zero', 'one', 'two', 'three', 'four', 'five', 'six', 'seven', 'eight', 'nine']"
      ],
      "execution_count": 0,
      "outputs": []
    },
    {
      "cell_type": "code",
      "metadata": {
        "id": "qBlch43HmGW9",
        "colab_type": "code",
        "colab": {
          "base_uri": "https://localhost:8080/",
          "height": 34
        },
        "outputId": "840b5017-8bf8-408a-f6e2-c1777791366a"
      },
      "source": [
        "img_rows, img_cols, channels = 28, 28, 1\n",
        "num_classes = 10\n",
        "\n",
        "x_train = x_train / 255\n",
        "x_test = x_test / 255\n",
        "\n",
        "x_train = x_train.reshape((-1, img_rows, img_cols, channels))\n",
        "x_test = x_test.reshape((-1, img_rows, img_cols, channels))\n",
        "\n",
        "y_train = tf.keras.utils.to_categorical(y_train, num_classes)\n",
        "y_test = tf.keras.utils.to_categorical(y_test, num_classes)\n",
        "\n",
        "print(\"Data shapes\", x_test.shape, y_test.shape, x_train.shape, y_train.shape)"
      ],
      "execution_count": 4,
      "outputs": [
        {
          "output_type": "stream",
          "text": [
            "Data shapes (10000, 28, 28, 1) (10000, 10) (60000, 28, 28, 1) (60000, 10)\n"
          ],
          "name": "stdout"
        }
      ]
    },
    {
      "cell_type": "code",
      "metadata": {
        "id": "AayEDwuUmLHi",
        "colab_type": "code",
        "colab": {}
      },
      "source": [
        "def create_model():\n",
        "    model = Sequential()\n",
        "    model.add(Conv2D(32, kernel_size=(3, 3), strides=(3, 3), padding='same', activation='relu', input_shape=(img_rows, img_cols, channels)))\n",
        "    model.add(Conv2D(64, kernel_size=(3, 3), strides=(3, 3), padding='same', activation='relu'))\n",
        "    model.add(Conv2D(64, kernel_size=(3, 3), strides=(3, 3), padding='same', activation='relu'))\n",
        "    model.add(MaxPooling2D(pool_size=(2, 2)))\n",
        "    model.add(Dropout(0.2))\n",
        "    model.add(Flatten())\n",
        "    model.add(Dense(32))\n",
        "    model.add(Dropout(0.2))\n",
        "    model.add(Dense(32))\n",
        "    model.add(Dropout(0.2))\n",
        "    model.add(Dense(num_classes, activation='softmax'))\n",
        "\n",
        "    model.compile(optimizer='adam', loss='mse', metrics=['accuracy'])\n",
        "    \n",
        "    return model\n",
        "\n",
        "model = create_model()"
      ],
      "execution_count": 0,
      "outputs": []
    },
    {
      "cell_type": "code",
      "metadata": {
        "id": "vqCTPTCQmOq2",
        "colab_type": "code",
        "colab": {
          "base_uri": "https://localhost:8080/",
          "height": 374
        },
        "outputId": "58bca94c-8b06-4397-9850-7ef678e8cb5c"
      },
      "source": [
        "model.fit(x_train, y_train,\n",
        "          batch_size=32,\n",
        "          epochs=10,\n",
        "          validation_data=(x_test, y_test))"
      ],
      "execution_count": 6,
      "outputs": [
        {
          "output_type": "stream",
          "text": [
            "Epoch 1/10\n",
            "1875/1875 [==============================] - 14s 7ms/step - loss: 0.0192 - accuracy: 0.8672 - val_loss: 0.0059 - val_accuracy: 0.9600\n",
            "Epoch 2/10\n",
            "1875/1875 [==============================] - 13s 7ms/step - loss: 0.0089 - accuracy: 0.9415 - val_loss: 0.0048 - val_accuracy: 0.9684\n",
            "Epoch 3/10\n",
            "1875/1875 [==============================] - 14s 8ms/step - loss: 0.0073 - accuracy: 0.9531 - val_loss: 0.0045 - val_accuracy: 0.9698\n",
            "Epoch 4/10\n",
            "1875/1875 [==============================] - 13s 7ms/step - loss: 0.0065 - accuracy: 0.9594 - val_loss: 0.0042 - val_accuracy: 0.9715\n",
            "Epoch 5/10\n",
            "1875/1875 [==============================] - 13s 7ms/step - loss: 0.0059 - accuracy: 0.9625 - val_loss: 0.0038 - val_accuracy: 0.9754\n",
            "Epoch 6/10\n",
            "1875/1875 [==============================] - 13s 7ms/step - loss: 0.0054 - accuracy: 0.9657 - val_loss: 0.0042 - val_accuracy: 0.9724\n",
            "Epoch 7/10\n",
            "1875/1875 [==============================] - 13s 7ms/step - loss: 0.0050 - accuracy: 0.9682 - val_loss: 0.0034 - val_accuracy: 0.9775\n",
            "Epoch 8/10\n",
            "1875/1875 [==============================] - 13s 7ms/step - loss: 0.0047 - accuracy: 0.9697 - val_loss: 0.0036 - val_accuracy: 0.9762\n",
            "Epoch 9/10\n",
            "1875/1875 [==============================] - 13s 7ms/step - loss: 0.0045 - accuracy: 0.9719 - val_loss: 0.0034 - val_accuracy: 0.9776\n",
            "Epoch 10/10\n",
            "1875/1875 [==============================] - 13s 7ms/step - loss: 0.0043 - accuracy: 0.9731 - val_loss: 0.0033 - val_accuracy: 0.9792\n"
          ],
          "name": "stdout"
        },
        {
          "output_type": "execute_result",
          "data": {
            "text/plain": [
              "<tensorflow.python.keras.callbacks.History at 0x7f8bd4fbe6a0>"
            ]
          },
          "metadata": {
            "tags": []
          },
          "execution_count": 6
        }
      ]
    },
    {
      "cell_type": "code",
      "metadata": {
        "id": "Q1xuxT5Rm1Z-",
        "colab_type": "code",
        "colab": {
          "base_uri": "https://localhost:8080/",
          "height": 34
        },
        "outputId": "46be20a8-efed-41f2-9ccf-c2ea47e43998"
      },
      "source": [
        "print(\"Base accuracy on regular images:\", model.evaluate(x=x_test, y=y_test, verbose=0))"
      ],
      "execution_count": 7,
      "outputs": [
        {
          "output_type": "stream",
          "text": [
            "Base accuracy on regular images: [0.003316667163744569, 0.979200005531311]\n"
          ],
          "name": "stdout"
        }
      ]
    },
    {
      "cell_type": "code",
      "metadata": {
        "id": "mX6wYylhm6Lz",
        "colab_type": "code",
        "colab": {}
      },
      "source": [
        "def adversarial_pattern(image, label):\n",
        "    image = tf.cast(image, tf.float32)\n",
        "    \n",
        "    with tf.GradientTape() as tape:\n",
        "        tape.watch(image)\n",
        "        prediction = model(image)\n",
        "        loss = tf.keras.losses.MSE(label, prediction)\n",
        "    \n",
        "    gradient = tape.gradient(loss, image)\n",
        "    \n",
        "    signed_grad = tf.sign(gradient)\n",
        "    \n",
        "    return signed_grad"
      ],
      "execution_count": 0,
      "outputs": []
    },
    {
      "cell_type": "code",
      "metadata": {
        "id": "T0B3YD5Fm9rP",
        "colab_type": "code",
        "colab": {}
      },
      "source": [
        "def generate_adversarials(batch_size):\n",
        "    while True:\n",
        "        x = []\n",
        "        y = []\n",
        "        for batch in range(batch_size):\n",
        "            N = random.randint(0, 100)\n",
        "\n",
        "            label = y_train[N]\n",
        "            image = x_train[N]\n",
        "            \n",
        "            perturbations = adversarial_pattern(image.reshape((1, img_rows, img_cols, channels)), label).numpy()\n",
        "            \n",
        "            \n",
        "            epsilon = 0.1\n",
        "            adversarial = image + perturbations * epsilon\n",
        "            \n",
        "            x.append(adversarial)\n",
        "            y.append(y_train[N])\n",
        "        \n",
        "        \n",
        "        x = np.asarray(x).reshape((batch_size, img_rows, img_cols, channels))\n",
        "        y = np.asarray(y)\n",
        "        \n",
        "        yield x, y"
      ],
      "execution_count": 0,
      "outputs": []
    },
    {
      "cell_type": "code",
      "metadata": {
        "id": "YJfiFgBcnBY-",
        "colab_type": "code",
        "colab": {}
      },
      "source": [
        "x_adversarial_train, y_adversarial_train = next(generate_adversarials(20000))\n",
        "x_adversarial_test, y_adversarial_test = next(generate_adversarials(10000))"
      ],
      "execution_count": 0,
      "outputs": []
    },
    {
      "cell_type": "code",
      "metadata": {
        "id": "-eKpKS7an2JD",
        "colab_type": "code",
        "colab": {
          "base_uri": "https://localhost:8080/",
          "height": 34
        },
        "outputId": "d259e68f-cef7-48de-eed8-8cc13ffe582a"
      },
      "source": [
        "print(\"Base accuracy on adversarial images:\", model.evaluate(x=x_adversarial_test, y=y_adversarial_test, verbose=0))"
      ],
      "execution_count": 11,
      "outputs": [
        {
          "output_type": "stream",
          "text": [
            "Base accuracy on adversarial images: [0.09681949764490128, 0.40700000524520874]\n"
          ],
          "name": "stdout"
        }
      ]
    },
    {
      "cell_type": "code",
      "metadata": {
        "id": "iueOKWaOn8eX",
        "colab_type": "code",
        "colab": {
          "base_uri": "https://localhost:8080/",
          "height": 374
        },
        "outputId": "b91b8b12-db2f-4488-be1c-b4d85a015306"
      },
      "source": [
        "model.fit(x_adversarial_train, y_adversarial_train,\n",
        "          batch_size=32,\n",
        "          epochs=10,\n",
        "          validation_data=(x_test, y_test))"
      ],
      "execution_count": 12,
      "outputs": [
        {
          "output_type": "stream",
          "text": [
            "Epoch 1/10\n",
            "625/625 [==============================] - 5s 8ms/step - loss: 0.0054 - accuracy: 0.9700 - val_loss: 0.0101 - val_accuracy: 0.9412\n",
            "Epoch 2/10\n",
            "625/625 [==============================] - 5s 8ms/step - loss: 2.6000e-04 - accuracy: 0.9984 - val_loss: 0.0090 - val_accuracy: 0.9482\n",
            "Epoch 3/10\n",
            "625/625 [==============================] - 5s 8ms/step - loss: 8.2846e-05 - accuracy: 0.9994 - val_loss: 0.0102 - val_accuracy: 0.9414\n",
            "Epoch 4/10\n",
            "625/625 [==============================] - 5s 8ms/step - loss: 1.5403e-04 - accuracy: 0.9990 - val_loss: 0.0106 - val_accuracy: 0.9387\n",
            "Epoch 5/10\n",
            "625/625 [==============================] - 5s 8ms/step - loss: 8.3592e-05 - accuracy: 0.9994 - val_loss: 0.0105 - val_accuracy: 0.9389\n",
            "Epoch 6/10\n",
            "625/625 [==============================] - 5s 8ms/step - loss: 4.3204e-05 - accuracy: 0.9998 - val_loss: 0.0101 - val_accuracy: 0.9416\n",
            "Epoch 7/10\n",
            "625/625 [==============================] - 5s 9ms/step - loss: 9.3821e-05 - accuracy: 0.9994 - val_loss: 0.0088 - val_accuracy: 0.9492\n",
            "Epoch 8/10\n",
            "625/625 [==============================] - 5s 8ms/step - loss: 1.5845e-04 - accuracy: 0.9990 - val_loss: 0.0117 - val_accuracy: 0.9326\n",
            "Epoch 9/10\n",
            "625/625 [==============================] - 5s 8ms/step - loss: 1.2678e-04 - accuracy: 0.9992 - val_loss: 0.0159 - val_accuracy: 0.9115\n",
            "Epoch 10/10\n",
            "625/625 [==============================] - 5s 8ms/step - loss: 4.5253e-05 - accuracy: 0.9998 - val_loss: 0.0158 - val_accuracy: 0.9122\n"
          ],
          "name": "stdout"
        },
        {
          "output_type": "execute_result",
          "data": {
            "text/plain": [
              "<tensorflow.python.keras.callbacks.History at 0x7f8bd07980f0>"
            ]
          },
          "metadata": {
            "tags": []
          },
          "execution_count": 12
        }
      ]
    },
    {
      "cell_type": "code",
      "metadata": {
        "id": "4FHNq3dMoyc7",
        "colab_type": "code",
        "colab": {}
      },
      "source": [
        ""
      ],
      "execution_count": 0,
      "outputs": []
    },
    {
      "cell_type": "code",
      "metadata": {
        "id": "4KQBgnusoPpl",
        "colab_type": "code",
        "colab": {
          "base_uri": "https://localhost:8080/",
          "height": 51
        },
        "outputId": "68aecc4d-3a7b-4889-ac7e-323a47fbe44b"
      },
      "source": [
        "print(\"Defended accuracy on adversarial images:\", model.evaluate(x=x_adversarial_test, y=y_adversarial_test, verbose=0))\n",
        "\n",
        "# Assess defended model on regular data\n",
        "print(\"Defended accuracy on regular images:\", model.evaluate(x=x_test, y=y_test, verbose=0))"
      ],
      "execution_count": 13,
      "outputs": [
        {
          "output_type": "stream",
          "text": [
            "Defended accuracy on adversarial images: [5.094310784067131e-16, 1.0]\n",
            "Defended accuracy on regular images: [0.01575949229300022, 0.9121999740600586]\n"
          ],
          "name": "stdout"
        }
      ]
    },
    {
      "cell_type": "code",
      "metadata": {
        "id": "vQvBYJB8oW5p",
        "colab_type": "code",
        "colab": {
          "base_uri": "https://localhost:8080/",
          "height": 34
        },
        "outputId": "fb82a15b-4351-4ae5-a952-4dbd5411a6a2"
      },
      "source": [
        "x_adversarial_test, y_adversarial_test = next(generate_adversarials(10000))\n",
        "print(\"Defended accuracy on adversarial images:\", model.evaluate(x=x_adversarial_test, y=y_adversarial_test, verbose=0))"
      ],
      "execution_count": 14,
      "outputs": [
        {
          "output_type": "stream",
          "text": [
            "Defended accuracy on adversarial images: [0.053087376058101654, 0.6972000002861023]\n"
          ],
          "name": "stdout"
        }
      ]
    },
    {
      "cell_type": "code",
      "metadata": {
        "id": "m-RRxLz5oz69",
        "colab_type": "code",
        "colab": {
          "base_uri": "https://localhost:8080/",
          "height": 374
        },
        "outputId": "089dad29-d6bc-4d3a-999f-7a85c0bcc59b"
      },
      "source": [
        "model.fit(x_adversarial_test, y_adversarial_test,\n",
        "          batch_size=32,\n",
        "          epochs=10,\n",
        "          validation_data=(x_test, y_test))"
      ],
      "execution_count": 15,
      "outputs": [
        {
          "output_type": "stream",
          "text": [
            "Epoch 1/10\n",
            "313/313 [==============================] - 4s 12ms/step - loss: 0.0024 - accuracy: 0.9860 - val_loss: 0.0215 - val_accuracy: 0.8847\n",
            "Epoch 2/10\n",
            "313/313 [==============================] - 3s 11ms/step - loss: 2.1823e-04 - accuracy: 0.9987 - val_loss: 0.0148 - val_accuracy: 0.9205\n",
            "Epoch 3/10\n",
            "313/313 [==============================] - 3s 10ms/step - loss: 1.1075e-04 - accuracy: 0.9992 - val_loss: 0.0159 - val_accuracy: 0.9144\n",
            "Epoch 4/10\n",
            "313/313 [==============================] - 3s 10ms/step - loss: 8.4104e-05 - accuracy: 0.9995 - val_loss: 0.0158 - val_accuracy: 0.9146\n",
            "Epoch 5/10\n",
            "313/313 [==============================] - 3s 10ms/step - loss: 9.9219e-05 - accuracy: 0.9995 - val_loss: 0.0164 - val_accuracy: 0.9119\n",
            "Epoch 6/10\n",
            "313/313 [==============================] - 3s 10ms/step - loss: 1.5726e-04 - accuracy: 0.9992 - val_loss: 0.0144 - val_accuracy: 0.9222\n",
            "Epoch 7/10\n",
            "313/313 [==============================] - 3s 10ms/step - loss: 6.9166e-05 - accuracy: 0.9996 - val_loss: 0.0152 - val_accuracy: 0.9174\n",
            "Epoch 8/10\n",
            "313/313 [==============================] - 3s 10ms/step - loss: 2.1476e-04 - accuracy: 0.9986 - val_loss: 0.0141 - val_accuracy: 0.9236\n",
            "Epoch 9/10\n",
            "313/313 [==============================] - 3s 10ms/step - loss: 3.6226e-05 - accuracy: 0.9999 - val_loss: 0.0161 - val_accuracy: 0.9127\n",
            "Epoch 10/10\n",
            "313/313 [==============================] - 3s 10ms/step - loss: 8.0550e-05 - accuracy: 0.9995 - val_loss: 0.0163 - val_accuracy: 0.9132\n"
          ],
          "name": "stdout"
        },
        {
          "output_type": "execute_result",
          "data": {
            "text/plain": [
              "<tensorflow.python.keras.callbacks.History at 0x7f8bd15eeda0>"
            ]
          },
          "metadata": {
            "tags": []
          },
          "execution_count": 15
        }
      ]
    },
    {
      "cell_type": "code",
      "metadata": {
        "id": "mdwAOrS2plGp",
        "colab_type": "code",
        "colab": {
          "base_uri": "https://localhost:8080/",
          "height": 500
        },
        "outputId": "10c72390-8675-4a6d-db5f-300c2d288c4a"
      },
      "source": [
        "from tf_explain.core.occlusion_sensitivity import OcclusionSensitivity\n",
        "\n",
        "explainer = OcclusionSensitivity()\n",
        "#img_inp = tf.keras.preprocessing.image.load_img(IMAGE_PATH, target_size=(299, 299))\n",
        "img_inp=x_adversarial_test[0]\n",
        "img_inp = tf.keras.preprocessing.image.img_to_array(img_inp)\n",
        "grid = explainer.explain(([img_inp], None), model, 5, 5)\n",
        "fig, ax = plt.subplots(figsize=(8, 8))\n",
        "plt.imshow(grid)"
      ],
      "execution_count": 44,
      "outputs": [
        {
          "output_type": "execute_result",
          "data": {
            "text/plain": [
              "<matplotlib.image.AxesImage at 0x7f8bc580f198>"
            ]
          },
          "metadata": {
            "tags": []
          },
          "execution_count": 44
        },
        {
          "output_type": "display_data",
          "data": {
            "image/png": "[encoded data removed]",
            "text/plain": [
              "<Figure size 576x576 with 1 Axes>"
            ]
          },
          "metadata": {
            "tags": [],
            "needs_background": "light"
          }
        }
      ]
    },
    {
      "cell_type": "code",
      "metadata": {
        "id": "N-bMSaqg2kZ4",
        "colab_type": "code",
        "colab": {
          "base_uri": "https://localhost:8080/",
          "height": 1000
        },
        "outputId": "fac1a3ae-277c-4c9c-a738-a7b383871af5"
      },
      "source": [
        "from tf_explain.core.activations import ExtractActivations\n",
        "\n",
        "explainer = ExtractActivations()\n",
        "grid = explainer.explain((np.array([img_inp]), None), model, ['conv2d_2'])\n",
        "fig, ax = plt.subplots(figsize=(18, 18))\n",
        "ax.imshow(grid, cmap='binary_r')"
      ],
      "execution_count": 62,
      "outputs": [
        {
          "output_type": "execute_result",
          "data": {
            "text/plain": [
              "<matplotlib.image.AxesImage at 0x7f8bd3c20160>"
            ]
          },
          "metadata": {
            "tags": []
          },
          "execution_count": 62
        },
        {
          "output_type": "display_data",
          "data": {
            "image/png": "[encoded data removed]",
            "text/plain": [
              "<Figure size 1296x1296 with 1 Axes>"
            ]
          },
          "metadata": {
            "tags": [],
            "needs_background": "light"
          }
        }
      ]
    },
    {
      "cell_type": "code",
      "metadata": {
        "id": "wkv8XL8n4hfM",
        "colab_type": "code",
        "colab": {
          "base_uri": "https://localhost:8080/",
          "height": 527
        },
        "outputId": "e94bec0f-6084-4459-c778-f273c39ffde4"
      },
      "source": [
        "model.summary()"
      ],
      "execution_count": 50,
      "outputs": [
        {
          "output_type": "stream",
          "text": [
            "Model: \"sequential\"\n",
            "_________________________________________________________________\n",
            "Layer (type)                 Output Shape              Param #   \n",
            "=================================================================\n",
            "conv2d (Conv2D)              (None, 10, 10, 32)        320       \n",
            "_________________________________________________________________\n",
            "conv2d_1 (Conv2D)            (None, 4, 4, 64)          18496     \n",
            "_________________________________________________________________\n",
            "conv2d_2 (Conv2D)            (None, 2, 2, 64)          36928     \n",
            "_________________________________________________________________\n",
            "max_pooling2d (MaxPooling2D) (None, 1, 1, 64)          0         \n",
            "_________________________________________________________________\n",
            "dropout (Dropout)            (None, 1, 1, 64)          0         \n",
            "_________________________________________________________________\n",
            "flatten (Flatten)            (None, 64)                0         \n",
            "_________________________________________________________________\n",
            "dense (Dense)                (None, 32)                2080      \n",
            "_________________________________________________________________\n",
            "dropout_1 (Dropout)          (None, 32)                0         \n",
            "_________________________________________________________________\n",
            "dense_1 (Dense)              (None, 32)                1056      \n",
            "_________________________________________________________________\n",
            "dropout_2 (Dropout)          (None, 32)                0         \n",
            "_________________________________________________________________\n",
            "dense_2 (Dense)              (None, 10)                330       \n",
            "=================================================================\n",
            "Total params: 59,210\n",
            "Trainable params: 59,210\n",
            "Non-trainable params: 0\n",
            "_________________________________________________________________\n"
          ],
          "name": "stdout"
        }
      ]
    },
    {
      "cell_type": "code",
      "metadata": {
        "id": "uF3Hmu8Iufnt",
        "colab_type": "code",
        "colab": {
          "base_uri": "https://localhost:8080/",
          "height": 136
        },
        "outputId": "88da5af0-c0db-4b2f-b3a5-745e3ac64288"
      },
      "source": [
        "pip install tf-explain"
      ],
      "execution_count": 30,
      "outputs": [
        {
          "output_type": "stream",
          "text": [
            "Collecting tf-explain\n",
            "\u001b[?25l  Downloading https://files.pythonhosted.org/packages/1d/08/f77da1c8d29ba5b125e72b61b105e7514663562adac2bbbce04e424a37bc/tf_explain-0.2.1-py3-none-any.whl (41kB)\n",
            "\r\u001b[K     |███████▉                        | 10kB 17.1MB/s eta 0:00:01\r\u001b[K     |███████████████▊                | 20kB 2.2MB/s eta 0:00:01\r\u001b[K     |███████████████████████▋        | 30kB 2.5MB/s eta 0:00:01\r\u001b[K     |███████████████████████████████▌| 40kB 2.8MB/s eta 0:00:01\r\u001b[K     |████████████████████████████████| 51kB 2.4MB/s \n",
            "\u001b[?25hRequirement already satisfied: opencv-python>=4.1.0.25 in /usr/local/lib/python3.6/dist-packages (from tf-explain) (4.1.2.30)\n",
            "Requirement already satisfied: numpy>=1.11.3 in /usr/local/lib/python3.6/dist-packages (from opencv-python>=4.1.0.25->tf-explain) (1.18.2)\n",
            "Installing collected packages: tf-explain\n",
            "Successfully installed tf-explain-0.2.1\n"
          ],
          "name": "stdout"
        }
      ]
    }
  ]
}